{
 "cells": [
  {
   "cell_type": "code",
   "execution_count": 11,
   "id": "d1395a33",
   "metadata": {},
   "outputs": [
    {
     "name": "stdout",
     "output_type": "stream",
     "text": [
      "2.6.0\n"
     ]
    }
   ],
   "source": [
    "import tensorflow as tf\n",
    "print(tf.__version__)"
   ]
  },
  {
   "cell_type": "code",
   "execution_count": 10,
   "id": "dbba1712",
   "metadata": {},
   "outputs": [
    {
     "name": "stdout",
     "output_type": "stream",
     "text": [
      "tf.Tensor([3 4 5], shape=(3,), dtype=int32)\n",
      "tf.Tensor([ 9 11 13], shape=(3,), dtype=int32)\n",
      "tf.Tensor(\n",
      "[[1 2]\n",
      " [3 4]], shape=(2, 2), dtype=int32)\n"
     ]
    }
   ],
   "source": [
    "텐서 = tf.constant([3,4,5])\n",
    "텐서2 = tf.constant([6,7,8])\n",
    "텐서3 = tf.constant([[1,2], \n",
    "                     [3,4]]) #행렬처럼 표현 ! \n",
    "\n",
    "print(텐서)             #텐서가 필요한 이유 - 행렬로 인풋/w값을 저장 가능함. 그럼 node값 계산식이 쉬워진다 ! \n",
    "                        #텐서 + 텐서2 가 쉬워진다 ! 텐서가 있음으로써 \n",
    "\n",
    "print(텐서+텐서2)\n",
    "print(텐서3)"
   ]
  },
  {
   "cell_type": "code",
   "execution_count": 13,
   "id": "5537495a",
   "metadata": {},
   "outputs": [
    {
     "name": "stdout",
     "output_type": "stream",
     "text": [
      "tf.Tensor([ 9 11 13], shape=(3,), dtype=int32)\n"
     ]
    }
   ],
   "source": [
    "print(tf.add(텐서, 텐서2))  # tf.add() , tf.substract(), tf.divide(), tf.multiply(), ft.matmul() => 이건 말그대로 행렬의 곱임 AB"
   ]
  },
  {
   "cell_type": "code",
   "execution_count": 14,
   "id": "5a4bdea6",
   "metadata": {},
   "outputs": [
    {
     "name": "stdout",
     "output_type": "stream",
     "text": [
      "tf.Tensor([0. 0. 0. 0. 0. 0. 0. 0. 0. 0.], shape=(10,), dtype=float32)\n"
     ]
    }
   ],
   "source": [
    "텐서4 = tf.zeros(10)          #데이터 뭘 담을지 모를 때 0값 넣어서 만들어 놓을 수 있다.\n",
    "print(텐서4)"
   ]
  },
  {
   "cell_type": "code",
   "execution_count": 15,
   "id": "eef04d6a",
   "metadata": {},
   "outputs": [
    {
     "name": "stdout",
     "output_type": "stream",
     "text": [
      "tf.Tensor(\n",
      "[[0. 0.]\n",
      " [0. 0.]], shape=(2, 2), dtype=float32)\n"
     ]
    }
   ],
   "source": [
    "텐서4 = tf.zeros([2,2]) #2행 2열의 0으로 가득찬 행렬을 만들어줌 !\n",
    "print(텐서4)"
   ]
  },
  {
   "cell_type": "code",
   "execution_count": 17,
   "id": "4dd04e09",
   "metadata": {},
   "outputs": [
    {
     "name": "stdout",
     "output_type": "stream",
     "text": [
      "tf.Tensor(\n",
      "[[[0. 0. 0.]\n",
      "  [0. 0. 0.]]\n",
      "\n",
      " [[0. 0. 0.]\n",
      "  [0. 0. 0.]]], shape=(2, 2, 3), dtype=float32)\n"
     ]
    }
   ],
   "source": [
    "텐서4 = tf.zeros([2,2,3]) #3개의 0이 들어있는 것을 2개 생성하고 그걸 또 2개 생성\n",
    "print(텐서4)"
   ]
  },
  {
   "cell_type": "code",
   "execution_count": 18,
   "id": "52a4ad1d",
   "metadata": {},
   "outputs": [
    {
     "name": "stdout",
     "output_type": "stream",
     "text": [
      "(3,)\n"
     ]
    }
   ],
   "source": [
    "print(텐서.shape)   #자료가 3개 들어있습니다."
   ]
  },
  {
   "cell_type": "code",
   "execution_count": 19,
   "id": "50ba2fa9",
   "metadata": {},
   "outputs": [
    {
     "name": "stdout",
     "output_type": "stream",
     "text": [
      "(2, 2)\n"
     ]
    }
   ],
   "source": [
    "print(텐서3.shape) #2행 2열이 들어있습니다.를 의미 이 쉐잎이 중요하다. 몇차원의 행렬인지를 알 수 있음"
   ]
  },
  {
   "cell_type": "code",
   "execution_count": 21,
   "id": "81f40d86",
   "metadata": {},
   "outputs": [
    {
     "name": "stdout",
     "output_type": "stream",
     "text": [
      "tf.Tensor([3. 4. 5.], shape=(3,), dtype=float32)\n"
     ]
    }
   ],
   "source": [
    "#딥러닝 돌릴 때는 보통 실수로 돌린다. float자료형이 될 것 ! \n",
    "텐서 = tf.constant([3.0,4.0,5.0]) #실수로 만들어서 하는 방법도 있고\n",
    "print(텐서)"
   ]
  },
  {
   "cell_type": "code",
   "execution_count": 22,
   "id": "011a653c",
   "metadata": {},
   "outputs": [
    {
     "name": "stdout",
     "output_type": "stream",
     "text": [
      "tf.Tensor([3. 4. 5.], shape=(3,), dtype=float32)\n"
     ]
    }
   ],
   "source": [
    "텐서 = tf.constant([3,4,5], tf.float32) #뒤에서 실수로 선언해줄 수도 있다.\n",
    "print(텐서)"
   ]
  },
  {
   "cell_type": "code",
   "execution_count": 25,
   "id": "f6d8fc9a",
   "metadata": {},
   "outputs": [
    {
     "data": {
      "text/plain": [
       "<tf.Tensor: shape=(3,), dtype=int32, numpy=array([3, 4, 5])>"
      ]
     },
     "execution_count": 25,
     "metadata": {},
     "output_type": "execute_result"
    }
   ],
   "source": [
    "tf.cast(텐서, tf.int32) #자료 데이터 타입 바꿀 때 씀 "
   ]
  },
  {
   "cell_type": "code",
   "execution_count": 27,
   "id": "bec68b59",
   "metadata": {},
   "outputs": [
    {
     "name": "stdout",
     "output_type": "stream",
     "text": [
      "1.0\n"
     ]
    }
   ],
   "source": [
    "w = tf.Variable(1.0)  #Variable은 변수 만드는 것인데 w값 만드는 거와 같음 중요 !!!!! 변경을 쉽게 할 수 있다 !\n",
    "print(w.numpy())    # 변수에 저장된 값을 불러오기 !"
   ]
  },
  {
   "cell_type": "code",
   "execution_count": 28,
   "id": "ecf81704",
   "metadata": {},
   "outputs": [
    {
     "name": "stdout",
     "output_type": "stream",
     "text": [
      "2.0\n"
     ]
    }
   ],
   "source": [
    "w.assign(2)\n",
    "print(w.numpy())"
   ]
  },
  {
   "cell_type": "markdown",
   "id": "cdeab082",
   "metadata": {},
   "source": [
    "# 딥러닝으로 간단한 수학문제 풀어보기 !"
   ]
  },
  {
   "cell_type": "code",
   "execution_count": 29,
   "id": "4b824129",
   "metadata": {},
   "outputs": [],
   "source": [
    "키 = [170, 180, 175, 160]\n",
    "신발 = [260, 270, 265, 255]\n",
    "\n",
    "# 키와 신발 사이즈는 어떤 관련이 있을까요 ~?"
   ]
  },
  {
   "cell_type": "code",
   "execution_count": null,
   "id": "beaf78d7",
   "metadata": {},
   "outputs": [],
   "source": [
    "#신발 = a*키+b\n",
    "#a와 b를 예측하는 ! \n",
    "# 그렇게 되면 키를 알면 신발사이즈를 추론 가능하다 !\n",
    "\n",
    "키 = 170 \n",
    "신발 = 260\n",
    "\n",
    "#신발 = 키 * a + b \n",
    "#이걸 구하는 과정\n",
    "\n",
    "#딥러닝으로 학습시키기 위해서는 a랑 b의 정의가 필요하다.\n",
    "a =tf.Variable(0.1)\n",
    "b =tf.Variable(0.2)  #초기값 설정 \n",
    "# a와 b를 좋은 결과가 나올 때까지 학습시킬 것이다. \n",
    "\n",
    "opt = tf.keras.optimizers.Adam(learning_rate=0.1)  #w 변수를 업데이트 해주는(경사 하강법 도와주는) 고마운 도구(함수)다 !\n",
    "# 옵티마이저 중에 gradient를 알아서 스마트하게 바꿔주는 고마운 도구가 아담이다. 아담말고도 다양하긴 하다.\n",
    "# 러닝 레이트는 얼마만큼 한번에 w변수들을 업데이트 할것이냐. \n",
    "\n",
    "\n",
    "#손실함수 \n",
    "def 손실함수(): \n",
    "    실제값 = 신발\n",
    "    예측값 = 키 * a + b\n",
    "    return tf.square(실제값-예측값) #(오차)의 제곱 \n",
    "\n",
    "\n",
    "opt.minimize(손실함수,var_list=[a,b]) #미니마이즈하면 경사 하강이 일어난다 !  소괄호 안에 두가지 파라미터 필요하다 ! 손실함수 , 경사하강법으로 업데이트할 weight Variable 목록\n",
    "#손실함수는 만들어야한다 !\n",
    "\n",
    "# 이렇게 실행을 하면 경사하강 딱 한번 진행한다. => a,b를 한번 수정해줌 !"
   ]
  }
 ],
 "metadata": {
  "kernelspec": {
   "display_name": "Python 3 (ipykernel)",
   "language": "python",
   "name": "python3"
  },
  "language_info": {
   "codemirror_mode": {
    "name": "ipython",
    "version": 3
   },
   "file_extension": ".py",
   "mimetype": "text/x-python",
   "name": "python",
   "nbconvert_exporter": "python",
   "pygments_lexer": "ipython3",
   "version": "3.8.12"
  }
 },
 "nbformat": 4,
 "nbformat_minor": 5
}
