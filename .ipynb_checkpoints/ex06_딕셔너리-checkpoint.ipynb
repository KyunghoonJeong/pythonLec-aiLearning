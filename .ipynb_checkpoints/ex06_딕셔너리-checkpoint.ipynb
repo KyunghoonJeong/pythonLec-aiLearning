{
 "cells": [
  {
   "cell_type": "markdown",
   "id": "6ba13bc6",
   "metadata": {},
   "source": [
    "### 딕셔너리\n",
    "- key와 value로 구성되어 있는 자료형"
   ]
  },
  {
   "cell_type": "code",
   "execution_count": null,
   "id": "071d02a0",
   "metadata": {},
   "outputs": [],
   "source": [
    "# 딕셔너리 생성  key : value\n",
    "dic_1 = {\"name\": \"정세연쌤\" }"
   ]
  },
  {
   "cell_type": "code",
   "execution_count": null,
   "id": "ccc08a16",
   "metadata": {},
   "outputs": [],
   "source": []
  }
 ],
 "metadata": {
  "kernelspec": {
   "display_name": "Python 3",
   "language": "python",
   "name": "python3"
  },
  "language_info": {
   "codemirror_mode": {
    "name": "ipython",
    "version": 3
   },
   "file_extension": ".py",
   "mimetype": "text/x-python",
   "name": "python",
   "nbconvert_exporter": "python",
   "pygments_lexer": "ipython3",
   "version": "3.8.8"
  }
 },
 "nbformat": 4,
 "nbformat_minor": 5
}
