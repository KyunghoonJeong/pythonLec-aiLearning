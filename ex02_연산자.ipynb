{
 "cells": [
  {
   "cell_type": "code",
   "execution_count": 1,
   "id": "9bc1718a",
   "metadata": {},
   "outputs": [
    {
     "name": "stdout",
     "output_type": "stream",
     "text": [
      "더하기 결과 : 26\n",
      "빼기 결과 : 20\n",
      "곱하기 결과 : 69\n",
      "나누기 결과 : 7.666666666666667\n"
     ]
    }
   ],
   "source": [
    "num1 =23\n",
    "num2 =3 \n",
    "print(f'더하기 결과 : {num1+num2}')\n",
    "print(f'빼기 결과 : {num1-num2}')\n",
    "print(f'곱하기 결과 : {num1*num2}')\n",
    "print(f'나누기 결과 : {num1/num2}')"
   ]
  },
  {
   "cell_type": "code",
   "execution_count": 5,
   "id": "1b1b75ca",
   "metadata": {},
   "outputs": [
    {
     "name": "stdout",
     "output_type": "stream",
     "text": [
      "첫 번째 정수 입력 : 1\n",
      "두 번째 정수 입력 : 3\n"
     ]
    }
   ],
   "source": [
    "num1 =input(\"첫 번째 정수 입력 : \")  # input으로 입력받으면 문자열이다.\n",
    "num2 = input(\"두 번째 정수 입력 : \")"
   ]
  },
  {
   "cell_type": "code",
   "execution_count": 4,
   "id": "51d515fd",
   "metadata": {},
   "outputs": [
    {
     "name": "stdout",
     "output_type": "stream",
     "text": [
      "12\n"
     ]
    }
   ],
   "source": [
    "print(int(num1)+2)"
   ]
  },
  {
   "cell_type": "code",
   "execution_count": 16,
   "id": "ce1cd24c",
   "metadata": {},
   "outputs": [
    {
     "name": "stdout",
     "output_type": "stream",
     "text": [
      "python 점수 입력 : 10\n",
      "머신러닝 점수 입력 : 10\n",
      "딥러닝 점수 입력 : 10\n",
      "합계 : 30\n",
      "평균 : 10.0\n"
     ]
    }
   ],
   "source": [
    "num1 =int(input(\"python 점수 입력 : \"))  # input으로 입력받으면 문자열이다.\n",
    "num2 = int(input(\"머신러닝 점수 입력 : \"))\n",
    "num3 = int(input(\"딥러닝 점수 입력 : \"))\n",
    "print(\"합계 : {}\".format(num1+num2+num3))\n",
    "print(\"평균 : {}\".format((num1+num2+num3)/3))"
   ]
  },
  {
   "cell_type": "code",
   "execution_count": 15,
   "id": "4349e6a4",
   "metadata": {},
   "outputs": [
    {
     "name": "stdout",
     "output_type": "stream",
     "text": [
      "15 10\n"
     ]
    }
   ],
   "source": [
    "a= 10\n",
    "b= 15\n",
    "a,b= b,a\n",
    "print(a,b)"
   ]
  },
  {
   "cell_type": "code",
   "execution_count": 21,
   "id": "9f26cdaa",
   "metadata": {},
   "outputs": [
    {
     "name": "stdout",
     "output_type": "stream",
     "text": [
      "정수입력 >> 10\n",
      "정수입력 >> 5\n",
      "a:10\n"
     ]
    }
   ],
   "source": [
    "a = int(input(\"정수입력 >> \"))\n",
    "b = int(input(\"정수입력 >> \"))\n",
    "print(f'a:{a}' if a>b else f'b:{b}')"
   ]
  },
  {
   "cell_type": "code",
   "execution_count": 22,
   "id": "0d5b80ea",
   "metadata": {},
   "outputs": [
    {
     "name": "stdout",
     "output_type": "stream",
     "text": [
      "정수 입력 >> 2\n",
      "2는(은) 짝수입니다.\n"
     ]
    }
   ],
   "source": [
    "num1 = int(input(\"정수 입력 >> \"))\n",
    "result = '짝수' if num1%2==0 else '홀수'\n",
    "print(f'{num1}는(은) {result}입니다.')"
   ]
  },
  {
   "cell_type": "code",
   "execution_count": null,
   "id": "adcd6246",
   "metadata": {},
   "outputs": [],
   "source": []
  }
 ],
 "metadata": {
  "kernelspec": {
   "display_name": "Python 3",
   "language": "python",
   "name": "python3"
  }
 },
 "nbformat": 4,
 "nbformat_minor": 5
}
