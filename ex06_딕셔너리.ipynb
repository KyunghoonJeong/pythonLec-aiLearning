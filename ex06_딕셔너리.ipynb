{
 "cells": [
  {
   "cell_type": "markdown",
   "id": "4b8d6412",
   "metadata": {},
   "source": [
    "### 딕셔너리\n",
    "- key와 value로 구성되어 있는 자료형"
   ]
  },
  {
   "cell_type": "code",
   "execution_count": 2,
   "id": "3b20d323",
   "metadata": {},
   "outputs": [],
   "source": [
    "# 딕셔너리 생성  key : value\n",
    "dic_1 = {\"name\": \"정세연쌤\", \"age\" : 20, \"phone\" :\"010-0000-0000\" }"
   ]
  },
  {
   "cell_type": "code",
   "execution_count": 3,
   "id": "02d8e003",
   "metadata": {},
   "outputs": [
    {
     "data": {
      "text/plain": [
       "{'name': '정세연쌤', 'age': 20, 'phone': '010-0000-0000'}"
      ]
     },
     "execution_count": 3,
     "metadata": {},
     "output_type": "execute_result"
    }
   ],
   "source": [
    "dic_1"
   ]
  },
  {
   "cell_type": "code",
   "execution_count": 4,
   "id": "e45d1bb5",
   "metadata": {},
   "outputs": [
    {
     "data": {
      "text/plain": [
       "dict"
      ]
     },
     "execution_count": 4,
     "metadata": {},
     "output_type": "execute_result"
    }
   ],
   "source": [
    "type(dic_1) #dict는 딕셔너리 타입"
   ]
  },
  {
   "cell_type": "code",
   "execution_count": 5,
   "id": "8fd5b8f1",
   "metadata": {},
   "outputs": [
    {
     "name": "stdout",
     "output_type": "stream",
     "text": [
      "정세연쌤\n"
     ]
    }
   ],
   "source": [
    "print(dic_1['name'])  #없는 키값은 가져올 수 없다"
   ]
  },
  {
   "cell_type": "code",
   "execution_count": 8,
   "id": "6a71b4a9",
   "metadata": {},
   "outputs": [],
   "source": [
    "# 딕셔너리 값 추가 \n",
    "# 딕셔너리명[key] = value \n",
    "dic_1['height'] = 169"
   ]
  },
  {
   "cell_type": "code",
   "execution_count": 9,
   "id": "bcb0825c",
   "metadata": {},
   "outputs": [
    {
     "name": "stdout",
     "output_type": "stream",
     "text": [
      "{'name': '정세연쌤', 'age': 20, 'phone': '010-0000-0000', 'birth': '03/20', 'height': 169}\n"
     ]
    }
   ],
   "source": [
    "print(dic_1)"
   ]
  },
  {
   "cell_type": "code",
   "execution_count": 10,
   "id": "6c6a6422",
   "metadata": {},
   "outputs": [],
   "source": [
    "dic_test = {\"노래제목\" : \"아무노래\"}"
   ]
  },
  {
   "cell_type": "code",
   "execution_count": 12,
   "id": "931c53c2",
   "metadata": {},
   "outputs": [],
   "source": [
    "dic_test['가수'] = \"지코\"\n",
    "dic_test['날짜'] = '2020.01.13'"
   ]
  },
  {
   "cell_type": "code",
   "execution_count": 13,
   "id": "10517495",
   "metadata": {},
   "outputs": [
    {
     "name": "stdout",
     "output_type": "stream",
     "text": [
      "{'노래제목': '아무노래', '가수': '지코', '날짜': '2020.01.13'}\n"
     ]
    }
   ],
   "source": [
    "print(dic_test)"
   ]
  },
  {
   "cell_type": "code",
   "execution_count": 14,
   "id": "73fffe07",
   "metadata": {},
   "outputs": [
    {
     "name": "stdout",
     "output_type": "stream",
     "text": [
      "{'name': '정세연쌤', 'age': 20, 'phone': '010-0000-0000', 'birth': '03/20'}\n"
     ]
    }
   ],
   "source": [
    "#딕셔너리 값 삭제\n",
    "# del 딕셔너리명['key']\n",
    "\n",
    "del dic_1['height']\n",
    "print(dic_1)"
   ]
  },
  {
   "cell_type": "code",
   "execution_count": 15,
   "id": "234f08b1",
   "metadata": {},
   "outputs": [
    {
     "data": {
      "text/plain": [
       "dict_keys(['name', 'age', 'phone', 'birth'])"
      ]
     },
     "execution_count": 15,
     "metadata": {},
     "output_type": "execute_result"
    }
   ],
   "source": [
    "dic_1.keys()"
   ]
  },
  {
   "cell_type": "code",
   "execution_count": null,
   "id": "e0e036ba",
   "metadata": {},
   "outputs": [],
   "source": []
  }
 ],
 "metadata": {
  "kernelspec": {
   "display_name": "Python 3",
   "language": "python",
   "name": "python3"
  },
  "language_info": {
   "codemirror_mode": {
    "name": "ipython",
    "version": 3
   },
   "file_extension": ".py",
   "mimetype": "text/x-python",
   "name": "python",
   "nbconvert_exporter": "python",
   "pygments_lexer": "ipython3",
   "version": "3.8.8"
  }
 },
 "nbformat": 4,
 "nbformat_minor": 5
}
